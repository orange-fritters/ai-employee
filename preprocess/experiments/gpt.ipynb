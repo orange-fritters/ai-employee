{
 "cells": [
  {
   "cell_type": "code",
   "execution_count": null,
   "metadata": {},
   "outputs": [],
   "source": [
    "import openai\n",
    "import json\n",
    "\n",
    "with open('server/model/utils/config.json') as f:\n",
    "    config = json.load(f)\n",
    "\n",
    "openai.api_key = config['chatgpt']['secret']"
   ]
  },
  {
   "cell_type": "markdown",
   "metadata": {},
   "source": [
    "## Token 수 세기"
   ]
  },
  {
   "cell_type": "code",
   "execution_count": null,
   "metadata": {},
   "outputs": [],
   "source": [
    "from typing import List\n",
    "import tiktoken\n",
    "\n",
    "\n",
    "def counter(text : str):\n",
    "    encoding = tiktoken.encoding_for_model(\"gpt-3.5-turbo\")\n",
    "    return len(encoding.encode(text))\n",
    "\n",
    "\n",
    "def count_money(input : str,\n",
    "                output : str,\n",
    "                encoder: tiktoken.Encoding):\n",
    "    # $0.0015 / 1K tokens input\n",
    "    # $0.003 / 1K tokens output\n",
    "    token_in = len(encoder.encode(input))\n",
    "    price_in = token_in *  0.0015 / 1000\n",
    "    token_out = len(encoder.encode(output))\n",
    "    price_out = token_out * 0.003 / 1000\n",
    "    total_price_dollar = price_in + price_out\n",
    "    total_price_won = total_price_dollar * 1300\n",
    "    return token_in, token_out, total_price_dollar, total_price_won\n",
    "\n",
    "\n",
    "def count_money(in_tokens : int,\n",
    "                out_tokens : int,\n",
    "                ):\n",
    "    # $0.0015 / 1K tokens input\n",
    "    # $0.003 / 1K tokens output\n",
    "    price_in = in_tokens * 0.0015 / 1000\n",
    "    price_out = out_tokens * 0.003 / 1000\n",
    "    total_price_dollar = price_in + price_out\n",
    "    total_price_won = total_price_dollar * 1300\n",
    "    return total_price_dollar, total_price_won\n",
    "\n",
    "\n",
    "def count_money(texts: List[str],\n",
    "                encoder : tiktoken.Encoding):\n",
    "    # $0.0001 / 1K tokens\n",
    "    token_counts = 0\n",
    "    for text in texts:\n",
    "        token_counts += len(encoder.encode(text))\n",
    "    price = token_counts * 0.0001 / 1000\n",
    "    price_won = price * 1300\n",
    "    return token_counts, price, price_won"
   ]
  },
  {
   "cell_type": "code",
   "execution_count": null,
   "metadata": {},
   "outputs": [],
   "source": [
    "def get_chat(\n",
    "        user : str,\n",
    "        system : str,\n",
    "        assistant : str,\n",
    "):\n",
    "    prompt_message = [\n",
    "        {\"role\": \"system\",\n",
    "            \"content\": system},\n",
    "        {\"role\": \"assistant\",\n",
    "            \"content\": assistant},\n",
    "        {\"role\": \"user\",\n",
    "            \"content\": user\n",
    "        }\n",
    "    ]\n",
    "    \n",
    "    try:\n",
    "        response = openai.ChatCompletion.create(\n",
    "            model=\"gpt-3.5-turbo\",\n",
    "            messages=prompt_message,\n",
    "            presence_penalty=0.6\n",
    "        )\n",
    "    except:\n",
    "        print(\"OpenAI Response Error\")\n",
    "\n",
    "    chat = response['choices'][0]['message']['content']\n",
    "    \n",
    "    token_in, token_out, total_price_dollar, total_price_won = count_money(user, chat, tiktoken.encoding_for_model(\"gpt-3.5-turbo\"))\n",
    "    return token_in, token_out, total_price_dollar, total_price_won, chat"
   ]
  },
  {
   "cell_type": "code",
   "execution_count": null,
   "metadata": {},
   "outputs": [],
   "source": [
    "def get_embedding(texts: List[str], encoder: tiktoken.Encoding):\n",
    "    token_counts, price_dollar, price_won = count_money(texts, encoder)\n",
    "    result = openai.Embedding.create(\n",
    "        engine=\"text-embedding-ada-002\",\n",
    "        input=texts)\n",
    "    return result[\"data\"][0][\"embedding\"], token_counts, price_won"
   ]
  }
 ],
 "metadata": {
  "language_info": {
   "name": "python"
  },
  "orig_nbformat": 4
 },
 "nbformat": 4,
 "nbformat_minor": 2
}
